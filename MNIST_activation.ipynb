{
 "cells": [
  {
   "cell_type": "code",
   "execution_count": 43,
   "id": "45e2ae78",
   "metadata": {},
   "outputs": [],
   "source": [
    "from itertools import product\n",
    "import sys\n",
    "from PIL import Image\n",
    "from os import listdir\n",
    "\n",
    "import numpy as np\n",
    "import torch\n",
    "import torchvision\n",
    "from torchvision import transforms, datasets\n",
    "from train_models import test, Net\n",
    "import lucent.optvis.render as render"
   ]
  },
  {
   "cell_type": "code",
   "execution_count": 23,
   "id": "2291b86f",
   "metadata": {},
   "outputs": [
    {
     "data": {
      "text/plain": [
       "<All keys matched successfully>"
      ]
     },
     "execution_count": 23,
     "metadata": {},
     "output_type": "execute_result"
    }
   ],
   "source": [
    "model = Net()\n",
    "model.load_state_dict(torch.load(\"mnist_cnn.pt\"))"
   ]
  },
  {
   "cell_type": "code",
   "execution_count": 16,
   "id": "121a2cdd",
   "metadata": {},
   "outputs": [
    {
     "name": "stdout",
     "output_type": "stream",
     "text": [
      "\n",
      "Test set: Average loss: 0.0259, Accuracy: 9912/10000 (99%)\n",
      "\n"
     ]
    }
   ],
   "source": [
    "use_cuda = torch.cuda.is_available()\n",
    "device = torch.device(\"cuda\" if use_cuda else \"cpu\")\n",
    "transform = transforms.Compose(\n",
    "    [transforms.ToTensor(), transforms.Normalize((0.1307,), (0.3081,))]\n",
    ")\n",
    "dataset1 = datasets.MNIST(\"./data\", train=True, transform=transform)\n",
    "dataset2 = datasets.MNIST(\"./data\", train=False, transform=transform)\n",
    "train_loader = torch.utils.data.DataLoader(dataset1)\n",
    "test_loader = torch.utils.data.DataLoader(dataset2)\n",
    "test(model, device, test_loader)"
   ]
  },
  {
   "cell_type": "code",
   "execution_count": 17,
   "id": "80a42845",
   "metadata": {},
   "outputs": [
    {
     "data": {
      "text/plain": [
       "Net(\n",
       "  (conv1): Conv2d(1, 32, kernel_size=(3, 3), stride=(1, 1))\n",
       "  (conv2): Conv2d(32, 64, kernel_size=(3, 3), stride=(1, 1))\n",
       "  (dropout1): Dropout(p=0.25, inplace=False)\n",
       "  (dropout2): Dropout(p=0.5, inplace=False)\n",
       "  (fc1): Linear(in_features=9216, out_features=128, bias=True)\n",
       "  (fc2): Linear(in_features=128, out_features=10, bias=True)\n",
       ")"
      ]
     },
     "execution_count": 17,
     "metadata": {},
     "output_type": "execute_result"
    }
   ],
   "source": [
    "model"
   ]
  },
  {
   "cell_type": "code",
   "execution_count": 37,
   "id": "5b38370e",
   "metadata": {},
   "outputs": [
    {
     "data": {
      "text/plain": [
       "5"
      ]
     },
     "execution_count": 37,
     "metadata": {},
     "output_type": "execute_result"
    }
   ],
   "source": [
    "dataset1"
   ]
  },
  {
   "cell_type": "code",
   "execution_count": 41,
   "id": "29ff145a",
   "metadata": {},
   "outputs": [
    {
     "data": {
      "text/plain": [
       "tensor([[-2.0266e-06, -1.8269e+01, -1.3123e+01, -2.4371e+01, -2.2181e+01,\n",
       "         -2.7081e+01, -1.8067e+01, -1.9923e+01, -1.8885e+01, -2.0621e+01]],\n",
       "       grad_fn=<LogSoftmaxBackward0>)"
      ]
     },
     "execution_count": 41,
     "metadata": {},
     "output_type": "execute_result"
    }
   ],
   "source": [
    "model(dataset1[1][0][None, :])"
   ]
  },
  {
   "cell_type": "code",
   "execution_count": 44,
   "id": "da3e8eef",
   "metadata": {},
   "outputs": [],
   "source": [
    "layers = [\n",
    "    \"conv1\",\n",
    "    \"conv2\",\n",
    "]\n",
    "\n",
    "\n",
    "def get_all_layers(model, layers, X):\n",
    "    hooks = [render.ModuleHook(getattr(model, layer)) for layer in layers]\n",
    "    model(X)\n",
    "    for hook in hooks:\n",
    "        hook.close()\n",
    "    return [hook.features for hook in hooks]"
   ]
  },
  {
   "cell_type": "code",
   "execution_count": 60,
   "id": "33be3874",
   "metadata": {},
   "outputs": [
    {
     "data": {
      "text/plain": [
       "torch.Size([60000, 1, 28, 28])"
      ]
     },
     "execution_count": 60,
     "metadata": {},
     "output_type": "execute_result"
    }
   ],
   "source": [
    "testing = torch.cat([dataset1[i][0][None, :] for i in range(len(dataset1))], 0)\n",
    "testing.shape"
   ]
  },
  {
   "cell_type": "code",
   "execution_count": 45,
   "id": "3c5de68c",
   "metadata": {},
   "outputs": [],
   "source": [
    "acts = get_all_layers(model, layers, dataset1[1][0][None, :])"
   ]
  },
  {
   "cell_type": "code",
   "execution_count": 47,
   "id": "35f5e127",
   "metadata": {},
   "outputs": [
    {
     "name": "stdout",
     "output_type": "stream",
     "text": [
      "torch.Size([1, 32, 26, 26])\n",
      "torch.Size([1, 64, 24, 24])\n"
     ]
    }
   ],
   "source": [
    "for t in acts:\n",
    "    print(t.shape)"
   ]
  },
  {
   "cell_type": "code",
   "execution_count": 48,
   "id": "12439c6a",
   "metadata": {},
   "outputs": [],
   "source": [
    "torch.save(acts, \"test_acts\")"
   ]
  },
  {
   "cell_type": "code",
   "execution_count": 50,
   "id": "fcc33458",
   "metadata": {},
   "outputs": [
    {
     "data": {
      "text/plain": [
       "14.1"
      ]
     },
     "execution_count": 50,
     "metadata": {},
     "output_type": "execute_result"
    }
   ],
   "source": [
    "235 * 60000 / (1000 * 1000)"
   ]
  },
  {
   "cell_type": "code",
   "execution_count": 61,
   "id": "3df67eae",
   "metadata": {},
   "outputs": [
    {
     "data": {
      "text/plain": [
       "76.8"
      ]
     },
     "execution_count": 61,
     "metadata": {},
     "output_type": "execute_result"
    }
   ],
   "source": [
    "128 * 60000 / (100 * 1000)"
   ]
  },
  {
   "cell_type": "code",
   "execution_count": null,
   "id": "bc800400",
   "metadata": {},
   "outputs": [],
   "source": []
  }
 ],
 "metadata": {
  "kernelspec": {
   "display_name": "act",
   "language": "python",
   "name": "act"
  },
  "language_info": {
   "codemirror_mode": {
    "name": "ipython",
    "version": 3
   },
   "file_extension": ".py",
   "mimetype": "text/x-python",
   "name": "python",
   "nbconvert_exporter": "python",
   "pygments_lexer": "ipython3",
   "version": "3.9.10"
  }
 },
 "nbformat": 4,
 "nbformat_minor": 5
}
